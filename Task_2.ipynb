{
 "cells": [
  {
   "cell_type": "markdown",
   "metadata": {},
   "source": [
    "# Задание 2.\n",
    "\n",
    "**NB. Все упражнения ниже нужно делать без использования циклов Python в явном (`while`, `for`) и неявном виде (list comprehension, `map`, `reduce` и пр)**\n",
    "\n",
    "Задания по манипуляциям с массивами чаще всего решаются в одно/два выражения. "
   ]
  },
  {
   "cell_type": "code",
   "execution_count": 1,
   "metadata": {},
   "outputs": [
    {
     "name": "stdout",
     "output_type": "stream",
     "text": [
      "[[ 0  0 51 ... 74 73 97]\n",
      " [18 98 22 ... 75 35  1]\n",
      " [59 78 90 ... 76 91 28]\n",
      " ...\n",
      " [39 38  7 ... 22 55 71]\n",
      " [75 69 67 ... 46 67 66]\n",
      " [14 95 11 ... 10 93 94]] (200, 50)\n"
     ]
    }
   ],
   "source": [
    "%matplotlib inline\n",
    "\n",
    "import numpy as np\n",
    "import matplotlib.pyplot as plt\n",
    "import seaborn as sns\n",
    "sns.set_theme()\n",
    "\n",
    "A = np.random.randint(0, 100, size=(200, 50))\n",
    "print(A, A.shape)"
   ]
  },
  {
   "cell_type": "markdown",
   "metadata": {},
   "source": [
    "# Задание 2.1 (2 балла)\n",
    "\n",
    "Сгенерируйте новый массив, в котором столбцы массива `A` переставлены в случайном порядке"
   ]
  },
  {
   "cell_type": "code",
   "execution_count": 2,
   "metadata": {},
   "outputs": [
    {
     "name": "stdout",
     "output_type": "stream",
     "text": [
      "[[44 50 11 ... 37 86 70]\n",
      " [77  7 93 ... 12 48 49]\n",
      " [31 66 59 ... 58 93 41]\n",
      " ...\n",
      " [44 43 90 ... 20  2 26]\n",
      " [71 86 55 ... 71 79 92]\n",
      " [77 59 64 ... 56 43 38]] (200, 50)\n"
     ]
    }
   ],
   "source": [
    "B = A.copy()\n",
    "np.random.shuffle(B.T)\n",
    "print(B, B.shape)"
   ]
  },
  {
   "cell_type": "markdown",
   "metadata": {},
   "source": [
    "# Задание 2.2 (5 баллов)\n",
    "\n",
    "Сгенерируйте новый массив, который содержит только те строки массива `A`, в которых: \n",
    "- сумма элементов по четным столбцам (индексы $0, 2, \\ldots$) больше среднего значения (по всему массиву) суммы элементов по нечетным столбцам (индексы $1, 3, \\ldots$) "
   ]
  },
  {
   "cell_type": "code",
   "execution_count": 3,
   "metadata": {},
   "outputs": [
    {
     "name": "stdout",
     "output_type": "stream",
     "text": [
      "[[59 78 90 ... 76 91 28]\n",
      " [80 52 71 ... 38 15 38]\n",
      " [77 51 90 ... 19 33 93]\n",
      " ...\n",
      " [83 77 24 ... 92 68 84]\n",
      " [75 69 67 ... 46 67 66]\n",
      " [14 95 11 ... 10 93 94]] (88, 50)\n"
     ]
    }
   ],
   "source": [
    "C = A[A[:, ::2].sum(axis=1) > A[:, 1::2].sum(axis=1).mean()]\n",
    "print(C, C.shape)"
   ]
  },
  {
   "cell_type": "markdown",
   "metadata": {},
   "source": [
    "# Задача 2.3 (3 балла)\n",
    "\n",
    "Найдите индекс строки массива `A`, в которой разница между максимальным и минимальным элементом максимальна"
   ]
  },
  {
   "cell_type": "code",
   "execution_count": 4,
   "metadata": {},
   "outputs": [
    {
     "name": "stdout",
     "output_type": "stream",
     "text": [
      "3\n"
     ]
    }
   ],
   "source": [
    "print((np.max(A, axis=1) - np.min(A, axis=1)).argmax())"
   ]
  },
  {
   "cell_type": "markdown",
   "metadata": {},
   "source": [
    "# Задание 2.4 (7 баллов)\n",
    "\n",
    "Сгенерируйте массив той же размерности, что и `A`, но в котором каждый элемент заменен на его порядковый номер (начиная с 1) в отсортированном по возрастанию массиве из элементов `A`\n",
    "\n",
    "Если `A` выглядит так:\n",
    "$$\n",
    "\\begin{pmatrix}\n",
    "12 & 14\\\\\n",
    "1 & 2\n",
    "\\end{pmatrix}\n",
    "$$\n",
    "то результат должен быть\n",
    "$$\n",
    "\\begin{pmatrix}\n",
    "3 & 4\\\\\n",
    "1 & 2\n",
    "\\end{pmatrix}\n",
    "$$\n",
    "\n",
    "*Tip: рассмотрите возможность неоднократного применения [argsort()](https://numpy.org/doc/stable/reference/generated/numpy.ndarray.argsort.html)*"
   ]
  },
  {
   "cell_type": "code",
   "execution_count": 5,
   "metadata": {},
   "outputs": [
    {
     "name": "stdout",
     "output_type": "stream",
     "text": [
      "[[   1 7648 4561 ... 2345 2086 9001]\n",
      " [9026 9053 9481 ... 1637 2730 1603]\n",
      " [4729 6282 4717 ... 2246 2258 9091]\n",
      " ...\n",
      " [2274 8441 2517 ...  608 3047 4072]\n",
      " [8274 7875 2791 ... 7463 8876 1892]\n",
      " [2052  190 5045 ... 5624 9111  658]]\n"
     ]
    }
   ],
   "source": [
    "print(A.ravel().argsort().reshape(A.shape) + 1)"
   ]
  },
  {
   "cell_type": "markdown",
   "metadata": {},
   "source": [
    "# Задание 2.5 (2 балла)\n",
    "\n",
    "Примените $\\min-\\max$ - нормализацию к строкам массива `A`. То есть нужно получить новый массивы, в каждой строке которого максимальный элементы равен $1$, минимальный - $0$. "
   ]
  },
  {
   "cell_type": "code",
   "execution_count": 6,
   "metadata": {},
   "outputs": [
    {
     "name": "stdout",
     "output_type": "stream",
     "text": [
      "[[0.         0.         0.5257732  ... 0.7628866  0.75257732 1.        ]\n",
      " [0.17525773 1.         0.21649485 ... 0.7628866  0.35051546 0.        ]\n",
      " [0.58888889 0.8        0.93333333 ... 0.77777778 0.94444444 0.24444444]\n",
      " ...\n",
      " [0.38541667 0.375      0.05208333 ... 0.20833333 0.55208333 0.71875   ]\n",
      " [0.75757576 0.6969697  0.67676768 ... 0.46464646 0.67676768 0.66666667]\n",
      " [0.13402062 0.96907216 0.10309278 ... 0.09278351 0.94845361 0.95876289]] (200, 50)\n"
     ]
    }
   ],
   "source": [
    "D = (A - A.min(axis=1).reshape(-1, 1)).astype(np.float64) / (A.max(axis=1) - A.min(axis=1)).reshape(-1, 1).astype(np.float64)\n",
    "print(D, D.shape)"
   ]
  },
  {
   "cell_type": "markdown",
   "metadata": {},
   "source": [
    "# Задание 2.6 (2 балла)\n",
    "\n",
    "Сгенерируйте новый трехмерный массив, размерности $10 \\times 200 \\times 50$. Подмассивы по нулевой оси должны состоять из элементов `A`, умноженных на $1 - 10$ соответственно"
   ]
  },
  {
   "cell_type": "code",
   "execution_count": 7,
   "metadata": {},
   "outputs": [
    {
     "name": "stdout",
     "output_type": "stream",
     "text": [
      "[[[  0   0  51 ...  74  73  97]\n",
      "  [ 18  98  22 ...  75  35   1]\n",
      "  [ 59  78  90 ...  76  91  28]\n",
      "  ...\n",
      "  [ 39  38   7 ...  22  55  71]\n",
      "  [ 75  69  67 ...  46  67  66]\n",
      "  [ 14  95  11 ...  10  93  94]]\n",
      "\n",
      " [[  0   0 102 ... 148 146 194]\n",
      "  [ 36 196  44 ... 150  70   2]\n",
      "  [118 156 180 ... 152 182  56]\n",
      "  ...\n",
      "  [ 78  76  14 ...  44 110 142]\n",
      "  [150 138 134 ...  92 134 132]\n",
      "  [ 28 190  22 ...  20 186 188]]\n",
      "\n",
      " [[  0   0 153 ... 222 219 291]\n",
      "  [ 54 294  66 ... 225 105   3]\n",
      "  [177 234 270 ... 228 273  84]\n",
      "  ...\n",
      "  [117 114  21 ...  66 165 213]\n",
      "  [225 207 201 ... 138 201 198]\n",
      "  [ 42 285  33 ...  30 279 282]]\n",
      "\n",
      " ...\n",
      "\n",
      " [[  0   0 408 ... 592 584 776]\n",
      "  [144 784 176 ... 600 280   8]\n",
      "  [472 624 720 ... 608 728 224]\n",
      "  ...\n",
      "  [312 304  56 ... 176 440 568]\n",
      "  [600 552 536 ... 368 536 528]\n",
      "  [112 760  88 ...  80 744 752]]\n",
      "\n",
      " [[  0   0 459 ... 666 657 873]\n",
      "  [162 882 198 ... 675 315   9]\n",
      "  [531 702 810 ... 684 819 252]\n",
      "  ...\n",
      "  [351 342  63 ... 198 495 639]\n",
      "  [675 621 603 ... 414 603 594]\n",
      "  [126 855  99 ...  90 837 846]]\n",
      "\n",
      " [[  0   0 510 ... 740 730 970]\n",
      "  [180 980 220 ... 750 350  10]\n",
      "  [590 780 900 ... 760 910 280]\n",
      "  ...\n",
      "  [390 380  70 ... 220 550 710]\n",
      "  [750 690 670 ... 460 670 660]\n",
      "  [140 950 110 ... 100 930 940]]] (10, 200, 50)\n"
     ]
    }
   ],
   "source": [
    "E = np.tile(A, (10, 1))\n",
    "E = E.reshape(10, *A.shape) * np.arange(1, 11).reshape(10, 1, 1)\n",
    "print(E, E.shape)"
   ]
  },
  {
   "cell_type": "markdown",
   "metadata": {},
   "source": [
    "# Задание 2.7 (2 балла)\n",
    "\n",
    "Создайте новый массив, такой же размерности, как и `A`, в котором сначала сгруппированы четные столбцы `A`, потом  нечетные. Используйте [np.concat()](https://numpy.org/doc/stable/reference/generated/numpy.concatenate.html) "
   ]
  },
  {
   "cell_type": "code",
   "execution_count": 8,
   "metadata": {},
   "outputs": [
    {
     "name": "stdout",
     "output_type": "stream",
     "text": [
      "[[ 0 51  3 ... 14 74 97]\n",
      " [18 22 95 ... 75 75  1]\n",
      " [59 90 69 ... 18 76 28]\n",
      " ...\n",
      " [39  7 14 ... 51 22 71]\n",
      " [75 67  8 ... 26 46 66]\n",
      " [14 11 86 ... 13 10 94]] (200, 50)\n"
     ]
    }
   ],
   "source": [
    "F = np.concatenate((A[:, ::2], A[:, 1::2]), axis=1)\n",
    "print(F, F.shape)"
   ]
  },
  {
   "cell_type": "markdown",
   "metadata": {},
   "source": [
    "# Задание 2.8 (2 балла)\n",
    "\n",
    "Посчитайте количество строк массива `A`, в который все элементы больше 5. Используйте [np.all()](https://numpy.org/doc/stable/reference/generated/numpy.all.html) "
   ]
  },
  {
   "cell_type": "code",
   "execution_count": 9,
   "metadata": {},
   "outputs": [
    {
     "name": "stdout",
     "output_type": "stream",
     "text": [
      "9\n"
     ]
    }
   ],
   "source": [
    "print((A > 5).all(axis=1).sum())"
   ]
  },
  {
   "cell_type": "markdown",
   "metadata": {},
   "source": [
    "# Задание 2.9 (2 балла)\n",
    "\n",
    "Поделите массив `A` горизонтально на 10 частей и создайте новый массив размерности $20 \\times 50$, который является средним этих частей. Используйте [np.split()](https://numpy.org/doc/stable/reference/generated/numpy.split.html)"
   ]
  },
  {
   "cell_type": "code",
   "execution_count": 10,
   "metadata": {},
   "outputs": [
    {
     "name": "stdout",
     "output_type": "stream",
     "text": [
      "[[25.6 33.3 55.9 58.2 56.7 36.  64.5 42.  51.7 46.8 54.5 53.8 55.  48.1\n",
      "  36.8 55.7 50.8 52.  52.5 48.6 30.2 46.4 49.9 38.7 38.1 35.6 65.4 52.7\n",
      "  59.1 52.8 37.9 55.2 68.  54.1 46.6 37.4 53.2 32.3 63.3 66.7 53.1 54.9\n",
      "  48.4 55.2 48.1 47.  60.7 44.9 63.3 50.5]\n",
      " [45.9 55.4 31.7 46.3 47.2 68.4 40.6 56.5 56.8 64.4 51.1 40.1 42.1 57.1\n",
      "  44.2 51.3 42.1 43.9 46.  49.4 39.9 57.1 46.  45.3 25.2 50.3 43.  50.6\n",
      "  40.  41.9 45.9 61.1 56.  50.8 55.2 39.8 50.9 33.2 51.1 52.  41.  39.9\n",
      "  55.  40.8 44.9 52.  46.4 42.8 43.7 36.3]\n",
      " [40.2 60.5 53.5 51.1 54.1 62.1 48.6 50.1 59.4 43.4 60.2 60.5 40.3 51.4\n",
      "  48.2 54.9 53.8 39.2 48.5 53.1 34.6 46.7 45.8 56.4 50.3 45.3 41.1 48.1\n",
      "  38.3 53.3 33.3 66.3 40.  60.2 51.6 52.3 48.3 62.3 45.7 47.7 41.3 58.9\n",
      "  41.  42.1 59.6 53.3 57.2 59.2 64.8 39.3]\n",
      " [53.8 51.2 49.5 58.6 51.2 43.2 45.8 61.  42.3 54.2 60.6 35.7 56.2 55.9\n",
      "  53.4 62.  46.4 55.7 63.  55.4 40.9 52.7 56.1 63.6 54.8 41.8 47.7 44.3\n",
      "  50.8 46.9 44.4 34.9 56.3 61.3 30.2 58.8 39.5 67.1 50.3 50.3 53.7 56.6\n",
      "  54.6 52.7 50.4 60.2 45.2 41.6 50.4 49.4]\n",
      " [43.9 57.5 59.1 56.7 49.7 47.  54.5 44.4 56.6 55.4 50.6 58.9 56.4 51.5\n",
      "  50.  68.3 52.  41.3 46.7 53.2 47.7 46.8 44.  47.4 55.3 51.3 43.7 54.3\n",
      "  50.1 36.1 46.5 46.7 54.4 32.6 40.1 45.4 35.5 54.9 41.1 44.  53.7 51.2\n",
      "  49.5 37.2 53.  50.4 50.8 59.5 45.  62.1]\n",
      " [57.2 49.1 68.4 56.4 46.8 49.1 61.5 57.7 50.7 49.3 51.1 36.  59.9 45.9\n",
      "  44.7 42.6 58.5 41.  55.3 62.4 38.2 47.2 50.4 61.1 57.1 52.2 63.3 58.9\n",
      "  45.  55.9 71.  48.4 58.3 58.3 36.9 68.  43.9 58.8 53.1 52.6 54.9 50.3\n",
      "  46.6 53.5 59.7 61.7 34.5 54.7 38.8 57.9]\n",
      " [46.1 44.9 65.8 64.4 34.6 47.8 47.5 49.9 43.1 44.1 41.8 51.2 41.1 52.8\n",
      "  56.4 43.  63.2 42.2 35.8 46.5 39.2 43.3 46.5 42.3 55.8 49.  54.9 62.7\n",
      "  54.5 49.3 51.9 54.1 50.7 52.2 60.4 47.8 42.3 55.8 59.  44.5 52.  54.6\n",
      "  38.1 71.1 50.2 50.2 36.3 42.9 45.5 45. ]\n",
      " [57.2 43.7 51.8 58.2 40.3 53.9 54.8 44.1 33.5 48.9 56.3 49.7 54.9 51.6\n",
      "  33.6 59.6 46.3 60.7 42.1 36.5 45.2 55.9 43.7 44.2 48.1 32.1 57.1 41.4\n",
      "  43.4 62.  47.  51.5 56.6 60.1 42.6 36.9 40.7 51.9 44.8 42.7 49.5 53.4\n",
      "  48.1 44.1 76.3 58.9 40.1 62.  59.4 46.9]\n",
      " [49.1 64.7 36.6 55.3 51.2 60.2 24.7 39.7 58.2 31.5 64.2 56.6 55.5 33.\n",
      "  55.8 36.3 56.9 62.5 39.1 53.7 56.1 58.3 46.3 48.7 40.9 51.3 59.4 37.7\n",
      "  45.2 62.7 46.9 41.9 54.9 66.5 46.2 50.5 43.4 59.7 38.3 47.1 45.7 34.1\n",
      "  49.5 53.8 39.  52.2 55.3 60.4 71.9 56.7]\n",
      " [41.8 32.  39.2 57.  58.7 38.8 43.2 64.4 42.3 47.6 47.6 30.6 47.8 56.2\n",
      "  49.3 68.  37.1 52.8 50.1 58.6 50.9 55.5 52.9 61.  52.1 40.9 47.9 36.3\n",
      "  49.5 50.5 33.3 64.7 57.6 49.7 58.3 42.  51.1 50.2 38.8 47.1 42.3 50.7\n",
      "  38.4 40.3 41.5 25.6 58.3 55.6 56.6 55.3]\n",
      " [55.4 61.2 22.7 62.3 69.8 67.2 47.1 45.6 57.6 40.8 61.4 35.4 42.8 41.4\n",
      "  51.4 44.8 61.5 60.9 52.6 58.7 58.  49.9 66.8 34.2 56.1 63.3 49.1 42.4\n",
      "  46.  50.5 49.1 52.3 37.  46.8 45.9 43.1 43.9 43.5 28.8 34.8 54.  50.1\n",
      "  62.9 51.4 47.9 47.5 44.8 58.5 41.  59.5]\n",
      " [41.6 51.8 52.3 44.  55.1 49.6 41.3 37.3 32.2 57.  48.3 43.6 59.2 55.3\n",
      "  55.1 41.3 37.2 55.7 54.9 54.1 42.6 52.1 64.  44.  28.3 48.4 50.9 57.3\n",
      "  57.2 44.  52.8 40.9 38.7 51.8 51.1 56.9 51.3 77.1 35.9 39.  56.5 60.6\n",
      "  60.4 55.5 60.9 35.  43.9 54.  63.8 46.8]\n",
      " [53.5 61.4 46.1 39.9 63.  51.4 50.8 64.7 26.8 43.2 37.5 48.7 59.6 64.7\n",
      "  47.8 50.9 45.7 47.6 49.6 56.5 47.  60.6 52.3 37.7 46.9 57.9 70.8 45.7\n",
      "  56.4 49.7 43.8 56.4 39.7 41.6 45.1 48.5 52.2 35.9 42.2 52.9 53.3 69.9\n",
      "  50.9 50.9 47.5 37.6 44.7 40.8 55.2 51. ]\n",
      " [54.2 50.8 35.7 35.7 48.  58.4 65.5 49.  46.  53.2 46.1 32.3 51.7 31.9\n",
      "  57.4 40.6 51.9 64.6 45.6 65.6 58.2 28.5 47.  47.5 56.  37.1 67.9 56.2\n",
      "  56.3 53.3 37.3 49.2 57.1 51.  60.9 34.7 40.2 70.3 56.9 54.1 64.3 51.3\n",
      "  56.7 39.  40.  47.5 38.4 62.1 58.  46. ]\n",
      " [48.9 54.8 39.4 52.5 62.  39.8 41.2 51.3 50.3 67.4 42.1 38.7 54.5 49.6\n",
      "  46.7 53.4 49.3 47.  73.6 48.4 42.5 37.3 58.9 37.  55.2 67.3 63.1 45.3\n",
      "  33.7 43.5 41.1 49.6 53.6 47.  49.2 68.1 54.5 54.2 55.2 61.1 39.3 45.4\n",
      "  42.6 53.  64.7 44.2 55.2 58.  56.6 49.1]\n",
      " [55.  46.3 55.9 44.1 40.7 64.2 45.4 64.  56.1 51.5 52.9 50.8 54.3 34.1\n",
      "  63.7 43.3 61.2 30.6 45.1 58.8 74.9 63.7 50.6 61.4 63.2 67.7 44.2 49.\n",
      "  46.5 50.4 71.3 56.8 43.4 46.5 47.6 56.2 62.7 38.7 50.2 53.2 53.3 45.7\n",
      "  59.7 45.8 43.7 37.9 42.2 43.7 38.6 59.7]\n",
      " [59.5 58.8 64.8 66.3 45.1 52.2 53.8 39.4 44.5 47.  58.  68.5 57.6 40.9\n",
      "  59.5 65.8 46.3 44.6 56.3 60.1 53.4 48.1 38.9 49.7 51.8 54.9 44.7 44.9\n",
      "  43.7 48.8 42.8 50.5 57.8 49.3 36.7 44.3 58.9 46.6 59.1 48.1 61.  50.8\n",
      "  32.4 56.6 33.8 52.8 52.6 29.8 52.4 47.6]\n",
      " [48.2 53.3 54.9 42.5 44.  40.6 55.6 44.3 59.9 43.7 51.4 43.3 35.4 41.8\n",
      "  47.9 48.1 57.9 56.6 52.6 57.7 30.3 62.6 39.3 41.4 71.  61.1 38.8 56.\n",
      "  48.9 46.4 60.2 37.  54.  59.7 41.2 53.9 30.2 41.5 54.7 59.6 55.6 66.7\n",
      "  26.  56.9 38.5 54.5 53.5 35.4 55.3 52.7]\n",
      " [38.1 45.3 48.8 75.  33.9 49.7 61.  51.9 65.4 48.  47.8 56.5 42.5 47.4\n",
      "  60.  49.8 42.1 37.1 56.9 35.8 59.6 54.9 44.6 60.9 35.3 43.6 38.6 51.5\n",
      "  62.3 52.8 51.2 47.  43.7 46.  35.9 56.5 49.9 63.7 46.4 48.8 54.4 42.2\n",
      "  36.8 50.  52.9 45.4 43.7 37.  50.6 55.7]\n",
      " [42.7 45.4 44.6 52.  50.3 54.4 57.5 48.7 64.  45.1 56.4 41.4 60.9 33.3\n",
      "  39.8 49.3 56.1 45.3 53.3 56.4 61.1 52.8 51.4 40.5 50.1 53.  59.8 52.2\n",
      "  51.2 27.8 34.8 50.5 64.6 59.8 44.5 55.4 52.1 46.3 50.7 53.1 45.  64.6\n",
      "  46.2 55.9 55.3 39.5 55.7 43.8 45.6 64.1]] (20, 50)\n"
     ]
    }
   ],
   "source": [
    "G = np.array(np.split(A, 10)).mean(axis=0)\n",
    "print(G, G.shape)"
   ]
  },
  {
   "cell_type": "markdown",
   "metadata": {},
   "source": [
    "# Задание 2.10 (4 балла)\n",
    "\n",
    "\"Разверните\" массив `A` в одномерный массив. Оставьте в нём только уникальные элементы в том же порядке, в котором они встречаются в массиве. Используйте [np.unique()](https://numpy.org/doc/stable/reference/generated/numpy.unique.html)"
   ]
  },
  {
   "cell_type": "code",
   "execution_count": 11,
   "metadata": {},
   "outputs": [
    {
     "data": {
      "text/plain": [
       "array([ 0, 51, 81,  3, 78, 50, 64, 55,  9, 86, 59, 52, 42, 61, 31, 94, 33,\n",
       "       44, 12, 53, 13, 16, 84, 54, 60, 56, 11, 70, 37, 67, 68, 14, 74, 73,\n",
       "       97, 18, 98, 22, 95, 58,  7, 80,  4, 43, 26, 76, 69, 30, 47,  5, 77,\n",
       "       79,  2, 35, 39, 24, 88, 90, 25, 93, 49, 48, 92, 38, 15, 87, 40, 75,\n",
       "        1, 66, 19, 82, 45,  6, 71, 96, 17, 57, 72, 41, 89, 10, 91, 28, 36,\n",
       "       27, 23, 29, 99, 34, 32, 85, 20, 21, 62, 63,  8, 83, 46, 65])"
      ]
     },
     "execution_count": 11,
     "metadata": {},
     "output_type": "execute_result"
    }
   ],
   "source": [
    "A.ravel()[np.sort(np.unique(A, return_index=True)[1])]"
   ]
  },
  {
   "cell_type": "markdown",
   "metadata": {},
   "source": [
    "# Задание 2.11 (3 балла)\n",
    "\n",
    "Создайте одномерный массив размерности $200$, в котором каждый элемент - евклидово расстояние между соответствующей строкой `A` и \"средней\" строкой `A`"
   ]
  },
  {
   "cell_type": "code",
   "execution_count": 12,
   "metadata": {},
   "outputs": [
    {
     "name": "stdout",
     "output_type": "stream",
     "text": [
      "[198.32309441 218.40647833 193.12340556 242.08614123 214.17422762\n",
      " 200.23184006 203.53974986 198.23798772 200.72797457 171.9822368\n",
      " 219.8707115  204.5464245  212.29576014 215.27435931 216.85702611\n",
      " 214.36454878 196.14520074 208.40834862 224.56397702 230.14132566\n",
      " 186.0191382  214.57996126 206.34127017 175.36655831 194.0516678\n",
      " 193.63442301 217.45291393 189.43273153 203.54500676 199.52105096\n",
      " 201.70842763 198.55722041 229.0740705  186.425105   210.49045056\n",
      " 207.97954172 207.71319114 211.62858922 207.40911208 197.15656158\n",
      " 209.59129222 199.37126116 221.75278978 194.90259048 210.90519144\n",
      " 210.547975   186.78573226 197.08926854 193.36548238 199.10296275\n",
      " 197.03426041 205.52311251 213.99109742 184.14040777 181.83429208\n",
      " 197.89908988 200.37978884 187.14649282 210.16117571 218.44793379\n",
      " 210.58622884 192.3249328  199.086011   183.83924982 213.94658159\n",
      " 183.38301387 218.04547639 198.88971762 187.58587307 201.7410959\n",
      " 200.45510663 219.52653547 207.01980527 209.10021467 192.86539289\n",
      " 209.49214729 224.15006084 213.58686705 210.53028232 185.7195191\n",
      " 219.5097487  184.77670247 211.11612865 209.25159444 207.96756905\n",
      " 182.58356929 197.41441126 205.54118754 204.31265202 209.11312674\n",
      " 212.13608787 216.96361394 179.84145733 191.9890616  213.5997888\n",
      " 212.48769323 226.75385283 195.16449415 216.24291844 174.60452392\n",
      " 203.90554131 221.86960084 200.02572278 222.58155758 215.84262734\n",
      " 190.90657342 190.97091343 223.74856374 219.72912819 198.57874956\n",
      " 186.90839942 192.92796525 208.66087265 210.88786066 187.39727793\n",
      " 212.64277504 199.3485886  190.78836384 209.61674498 184.62117911\n",
      " 207.8218703  194.37656694 185.74878136 181.69064306 182.53013388\n",
      " 208.61998892 193.68084514 202.79990083 187.74956664 205.57380615\n",
      " 207.44731807 214.83777548 199.93038732 210.87723864 210.21800535\n",
      " 205.87998877 201.35937965 200.26077942 192.81631097 198.93838185\n",
      " 215.2800961  212.13502722 194.79378782 196.53363523 219.32270693\n",
      " 205.5303865  190.35955394 201.79283876 213.339002   215.88019774\n",
      " 197.86796046 202.18573089 184.11604975 194.08160597 212.99204158\n",
      " 223.94771661 193.16922575 199.15506465 201.878131   171.14014659\n",
      " 207.38314728 182.88039746 211.82662669 210.23572431 184.14977539\n",
      " 209.97456935 205.14677618 187.62227953 190.62329284 197.58962466\n",
      " 219.99329484 215.80729778 193.37453238 196.19378118 203.34888683\n",
      " 210.43110458 221.20786554 219.82631729 190.7028835  183.23291128\n",
      " 206.1417468  218.53887475 203.30341801 197.94825024 191.17015922\n",
      " 196.95976689 210.58012673 195.23245062 186.31355231 219.55240781\n",
      " 200.73340473 202.39063658 210.26497515 223.09531545 180.74271707\n",
      " 206.5894474  187.74852802 198.19674512 213.59786931 212.19594665] (200,)\n"
     ]
    }
   ],
   "source": [
    "def euclidean(x: np.ndarray, y: np.ndarray) -> np.float64:\n",
    "    return np.sqrt(np.power(x - y, 2).sum())\n",
    "H = np.apply_along_axis(euclidean, 1, A, A.mean(axis=0))\n",
    "print(H, H.shape)"
   ]
  },
  {
   "cell_type": "markdown",
   "metadata": {},
   "source": [
    "# Задание 2.12 (2 балла)\n",
    "\n",
    "Создайте новый массив, который состоит из элементов `A`, измененных по следующим правилам:\n",
    "- если элемент меньше $50$, то он умножается на $2$\n",
    "- в противном случае он умножается на $3$\n",
    "\n",
    "Используйте [np.where()](https://numpy.org/doc/stable/reference/generated/numpy.where.html)"
   ]
  },
  {
   "cell_type": "code",
   "execution_count": 13,
   "metadata": {},
   "outputs": [
    {
     "name": "stdout",
     "output_type": "stream",
     "text": [
      "[[  0   0 102 ... 148 146 194]\n",
      " [ 54 196  66 ... 150 105   3]\n",
      " [118 156 180 ... 152 182  84]\n",
      " ...\n",
      " [117 114  21 ...  66 110 142]\n",
      " [150 138 134 ... 138 134 132]\n",
      " [ 42 190  33 ...  30 186 188]] (200, 50)\n"
     ]
    }
   ],
   "source": [
    "I = A * np.where(A > 50, 2, 3)\n",
    "print(I, I.shape)"
   ]
  },
  {
   "cell_type": "markdown",
   "metadata": {},
   "source": [
    "# Задание 2.13 (7 баллов)\n",
    "\n",
    "Разверните массив `A` в одномерный массив. Создайте три новых массива, подсчитав скользящие средние по окнам $3$, $5$, $10$. Найдите сумму этих массивов, выровнив из размерности нулями справа\n",
    "\n",
    "*Tip: реализуйте функцию, которая считает скользящее среднее. Используйте [np.cumsum()](https://numpy.org/doc/stable/reference/generated/numpy.cumsum.html) или [np.convolve()](https://numpy.org/doc/stable/reference/generated/numpy.convolve.html)*"
   ]
  },
  {
   "cell_type": "code",
   "execution_count": 14,
   "metadata": {},
   "outputs": [
    {
     "name": "stdout",
     "output_type": "stream",
     "text": [
      "499841.0 499841.0 499841.0\n"
     ]
    }
   ],
   "source": [
    "J1 = np.convolve(A.ravel(), np.ones(3)) / 3\n",
    "J2 = np.convolve(A.ravel(), np.ones(5)) / 5\n",
    "J3 = np.convolve(A.ravel(), np.ones(10)) / 10\n",
    "print(J1.sum(), J2.sum(), J3.sum())\n",
    "\n"
   ]
  },
  {
   "cell_type": "markdown",
   "metadata": {},
   "source": [
    "# Задание 2.14 (8 баллов)\n",
    "\n",
    "Постройте график функции $$f(x) = (5  \\sin(2x) - \\cos^2(x) - 1 + |x^3| - x^2) / (x^2 + 1)$$  \n",
    "\n",
    "и производной от этой функции.  Найдите минимум с помощью `scipy` и обозначьте его на графике. На этой же оси постройте графики скользящего среднего этой функции с окном $1$, $2$, $5$."
   ]
  },
  {
   "cell_type": "code",
   "execution_count": 15,
   "metadata": {},
   "outputs": [
    {
     "data": {
      "image/png": "[encoded data removed]",
      "text/plain": [
       "<Figure size 640x480 with 2 Axes>"
      ]
     },
     "metadata": {},
     "output_type": "display_data"
    }
   ],
   "source": [
    "\n",
    "def func(x: np.ndarray) -> np.ndarray:\n",
    "    return (5 * np.sin(2 * x) - np.power(np.cos(x), 2) - 1 + np.abs(np.power(x, 3)) - np.power(x, 2)) / (np.power(x, 2) + 1)\n",
    "\n",
    "delta, step = 0.0001, 0.01\n",
    "from_, to = -5., 5.\n",
    "\n",
    "x = np.arange(from_, to, step=step, dtype=np.float64)\n",
    "y = func(x)\n",
    "d = (func(x + delta) - y) / delta\n",
    "avg1 = np.convolve(y, np.ones(np.int64(1 / step)), mode='same') / (1 / step)\n",
    "avg2 = np.convolve(y, np.ones(np.int64(2 / step)), mode='same') / (2 / step)\n",
    "avg5 = np.convolve(y, np.ones(np.int64(5 / step)), mode='same') / (5 / step)\n",
    "\n",
    "plt.subplot(1, 2, 1)\n",
    "plt.plot(x, y)\n",
    "plt.plot(x, avg1)\n",
    "plt.plot(x, avg2)\n",
    "plt.plot(x, avg5)\n",
    "plt.legend(['f(x)', 'avg1', 'avg2', 'avg5'])\n",
    "plt.title('Function')\n",
    "\n",
    "plt.subplot(1, 2, 2)\n",
    "plt.plot(x, d)\n",
    "plt.title('Derivatived')\n",
    "\n",
    "plt.show()\n"
   ]
  },
  {
   "cell_type": "markdown",
   "metadata": {},
   "source": [
    "# Задание 2.15 (10 баллов)\n",
    "\n",
    "Есть следующий алгоритм семплинирования, на вход функции подается вектор из целых положительных чисел и число семплов."
   ]
  },
  {
   "cell_type": "code",
   "execution_count": 16,
   "metadata": {},
   "outputs": [
    {
     "data": {
      "text/plain": [
       "[0, 1, 0, 0, 0]"
      ]
     },
     "execution_count": 16,
     "metadata": {},
     "output_type": "execute_result"
    }
   ],
   "source": [
    "from typing import List \n",
    "\n",
    "def sample(x: List[int], c: int) -> List[int]:\n",
    "    assert len(x) > 0\n",
    "    \n",
    "    s = np.sum(x)\n",
    "    res = []\n",
    "    for _ in range(c):\n",
    "        val = s * np.random.random()\n",
    "        cur, idx = 0, 0        \n",
    "        while cur + x[idx] <= val:\n",
    "            cur += x[idx]\n",
    "            idx += 1\n",
    "            \n",
    "        res.append(idx)\n",
    "    return res\n",
    "\n",
    "            \n",
    "sample([50, 3, 1, 7, 20], 5)   "
   ]
  },
  {
   "cell_type": "markdown",
   "metadata": {},
   "source": [
    "Реализуйте данный алгоритм более оптимальным способом на массивах `numpy`, без использования циклов. Проверьте корректность и идентичность алгоритмов семплирования с помощью статистических тестов."
   ]
  },
  {
   "cell_type": "code",
   "execution_count": 17,
   "metadata": {},
   "outputs": [
    {
     "name": "stdout",
     "output_type": "stream",
     "text": [
      "[4 0 0 0 0]\n"
     ]
    }
   ],
   "source": [
    "sample = ([50, 3, 1, 7, 20]) \n",
    "c = len(sample)\n",
    "s = np.cumsum(sample)\n",
    "randc = (np.random.random(c)*np.sum(sample)).reshape(c,1)\n",
    "rerandc = np.tile(randc,c).reshape(c,c)\n",
    "print(np.argmax(np.greater(s,rerandc),axis=1))\n",
    "\n",
    "\n",
    "\n"
   ]
  },
  {
   "cell_type": "markdown",
   "metadata": {},
   "source": [
    "# Задание 2.16 (5 баллов)\n",
    "\n",
    "Есть следующий алгоритм \"случайного блуждания\""
   ]
  },
  {
   "cell_type": "code",
   "execution_count": 18,
   "metadata": {},
   "outputs": [
    {
     "data": {
      "text/plain": [
       "1644"
      ]
     },
     "execution_count": 18,
     "metadata": {},
     "output_type": "execute_result"
    }
   ],
   "source": [
    "import random \n",
    "\n",
    "def walk(n: int):\n",
    "    cur_position = 0\n",
    "    for i in range(n):\n",
    "        cur_position += random.choice([-3, -1, 0, 2, 3])\n",
    "\n",
    "    return cur_position\n",
    "\n",
    "walk(10_000)"
   ]
  },
  {
   "cell_type": "markdown",
   "metadata": {},
   "source": [
    "Реализуйте более эффективную версию с помощью `numpy`, сравните производительность (используя, например, magic `timeit`). Воспользовавшись [kdeplot()](https://seaborn.pydata.org/generated/seaborn.kdeplot.html) или аналогами, постройте график распределения значений `walk(10_000)` на каком-то разумном числе запусков. "
   ]
  },
  {
   "cell_type": "code",
   "execution_count": 19,
   "metadata": {},
   "outputs": [
    {
     "name": "stdout",
     "output_type": "stream",
     "text": [
      "walk.numpy - 1000 times: 0.23215s\n",
      "walk.python - 1000 times: 5.64185s\n"
     ]
    },
    {
     "data": {
      "text/plain": [
       "<AxesSubplot: ylabel='Density'>"
      ]
     },
     "execution_count": 19,
     "metadata": {},
     "output_type": "execute_result"
    },
    {
     "data": {
      "image/png": "[encoded data removed]",
      "text/plain": [
       "<Figure size 640x480 with 1 Axes>"
      ]
     },
     "metadata": {},
     "output_type": "display_data"
    }
   ],
   "source": [
    "import time\n",
    "import typing as _t\n",
    "from functools import wraps\n",
    "\n",
    "\n",
    "def timeit(count: int, name: _t.Optional[str] = None) -> _t.Callable:\n",
    "    def wrapper(func: _t.Callable) -> _t.Callable:\n",
    "        funcname = name if name else func.__name__\n",
    "        @wraps(func)\n",
    "        def clock(*args, **kwargs) -> _t.List:\n",
    "            start = time.time()\n",
    "            result = [func(*args, **kwargs) for _ in range(count)]\n",
    "            end = time.time()\n",
    "            print(f'{funcname} - {count} times: {end - start:.5f}s')\n",
    "            return result\n",
    "        return clock\n",
    "    return wrapper\n",
    "\n",
    "data = [-3, -1, 0, 2, 3]\n",
    "\n",
    "@timeit(1000, name='walk.numpy')\n",
    "def walk_numpy(n: int) -> int:\n",
    "    return np.random.choice(data, n).sum()\n",
    "\n",
    "walk_python = timeit(1000, name='walk.python')(walk)\n",
    "\n",
    "result = walk_numpy(10_000)\n",
    "walk_python(10_000)\n",
    "sns.kdeplot(result)\n"
   ]
  },
  {
   "cell_type": "markdown",
   "metadata": {},
   "source": [
    "# Задание 2.17 (5 баллов)\n",
    "\n",
    "Имеется функция, которая проделывает достаточно странные манипуляции с массивом `numpy`"
   ]
  },
  {
   "cell_type": "code",
   "execution_count": 20,
   "metadata": {},
   "outputs": [
    {
     "data": {
      "text/plain": [
       "0.892102013201815"
      ]
     },
     "execution_count": 20,
     "metadata": {},
     "output_type": "execute_result"
    }
   ],
   "source": [
    "import numpy.typing as npt\n",
    "\n",
    "def strange_conv(a: npt.NDArray[np.float64]) -> np.float64:\n",
    "    x = a.shape[0]\n",
    "    y = a.shape[1]\n",
    "\n",
    "    t = 1.\n",
    "    for y in range(y - 5):\n",
    "        for x in range(x - 3):\n",
    "            c = 1.5 * a[y+1, x+2] - a[y+5, x+3] * a[y, x] + 0.2 * a[y+4, x]\n",
    "            t = 0.2 * t + 0.8 * c\n",
    "\n",
    "    return np.float64(t)\n",
    "\n",
    "\n",
    "a = np.random.random((100, 100))\n",
    "strange_conv(a)\n"
   ]
  },
  {
   "cell_type": "markdown",
   "metadata": {},
   "source": [
    "Оптимизируйте данную функцию с помощью (2 на выбор):\n",
    "- [Numba](https://numba.pydata.org)\n",
    "- `Cython` (+5 баллов)\n",
    "- [Taichi](https://github.com/taichi-dev/taichi) (+5 баллов)\n",
    "- `Pythran `[[1]](https://pythran.readthedocs.io/en/latest/), [[2]](https://serge-sans-paille.github.io/pythran-stories/pythran-tutorial.html) (+2 балла)\n",
    "\n",
    "Сравните производительность."
   ]
  },
  {
   "cell_type": "code",
   "execution_count": 21,
   "metadata": {},
   "outputs": [
    {
     "data": {
      "text/plain": [
       "0.3221484119330256"
      ]
     },
     "execution_count": 21,
     "metadata": {},
     "output_type": "execute_result"
    }
   ],
   "source": [
    "#Numba\n",
    "import numpy as np\n",
    "from numba import jit\n",
    "\n",
    "@jit\n",
    "def strange_conv(a: np.ndarray) -> np.float64:\n",
    "    x = a.shape[0]\n",
    "    y = a.shape[1]\n",
    "\n",
    "    t = 1.\n",
    "    for y in range(y - 5):\n",
    "        for x in range(x - 3):\n",
    "            c = 1.5 * a[y+1, x+2] - a[y+5, x+3] * a[y, x] + 0.2 * a[y+4, x]\n",
    "            t = 0.2 * t + 0.8 * c\n",
    "\n",
    "    return np.float64(t)\n",
    "\n",
    "a = np.random.random((100, 100))\n",
    "strange_conv(a)\n",
    "\n"
   ]
  },
  {
   "cell_type": "code",
   "execution_count": 22,
   "metadata": {},
   "outputs": [],
   "source": [
    "#Cython\n"
   ]
  }
 ],
 "metadata": {
  "kernelspec": {
   "display_name": "Python 3",
   "language": "python",
   "name": "python3"
  },
  "language_info": {
   "codemirror_mode": {
    "name": "ipython",
    "version": 3
   },
   "file_extension": ".py",
   "mimetype": "text/x-python",
   "name": "python",
   "nbconvert_exporter": "python",
   "pygments_lexer": "ipython3",
   "version": "3.10.9"
  },
  "orig_nbformat": 4,
  "vscode": {
   "interpreter": {
    "hash": "59de89281794d3bbcb6ad65be946d8a0a051675942c16ad9ca382da0a7e39242"
   }
  }
 },
 "nbformat": 4,
 "nbformat_minor": 2
}
